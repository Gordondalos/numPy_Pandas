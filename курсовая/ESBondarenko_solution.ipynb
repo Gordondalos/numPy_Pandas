{
 "cells": [
  {
   "cell_type": "markdown",
   "metadata": {},
   "source": [
    "# Курсовой проект Real Estate Price Prediction"
   ]
  },
  {
   "cell_type": "code",
   "execution_count": 209,
   "metadata": {},
   "outputs": [],
   "source": [
    "import numpy as np\n",
    "import pandas as pd\n",
    "import matplotlib\n",
    "import matplotlib.pyplot as plt\n",
    "import seaborn as sns\n",
    "import datetime\n",
    "\n",
    "from warnings import filterwarnings\n",
    "from scipy.stats import skew\n",
    "from scipy import stats\n",
    "from scipy.stats import norm\n",
    "from scipy.stats.stats import pearsonr\n",
    "from sklearn.ensemble import RandomForestRegressor, GradientBoostingRegressor, VotingRegressor\n",
    "from sklearn.metrics import r2_score\n",
    "from sklearn.model_selection import KFold, GridSearchCV, cross_val_score\n",
    "from mlxtend.feature_selection import SequentialFeatureSelector as SFS\n",
    "from mlxtend.plotting import plot_sequential_feature_selection as plot_sfs\n",
    "\n",
    "filterwarnings('ignore')\n",
    "sns.set()\n",
    "%config InlineBackend.figure_format = 'png'\n",
    "%matplotlib inline"
   ]
  },
  {
   "cell_type": "code",
   "execution_count": 211,
   "metadata": {},
   "outputs": [],
   "source": [
    "TEST_DATASET_PATH = '/kaggle/input/realestatepriceprediction/test.csv'\n",
    "TRAIN_DATASET_PATH = '/kaggle/input/realestatepriceprediction/train.csv'\n",
    "\n",
    "test = pd.read_csv(TEST_DATASET_PATH)\n",
    "train = pd.read_csv(TRAIN_DATASET_PATH)\n",
    "\n",
    "train.set_index('Id', inplace=True)\n",
    "test.set_index('Id', inplace=True)"
   ]
  },
  {
   "cell_type": "code",
   "execution_count": 212,
   "metadata": {},
   "outputs": [
    {
     "data": {
      "text/html": [
       "<div>\n",
       "<style scoped>\n",
       "    .dataframe tbody tr th:only-of-type {\n",
       "        vertical-align: middle;\n",
       "    }\n",
       "\n",
       "    .dataframe tbody tr th {\n",
       "        vertical-align: top;\n",
       "    }\n",
       "\n",
       "    .dataframe thead th {\n",
       "        text-align: right;\n",
       "    }\n",
       "</style>\n",
       "<table border=\"1\" class=\"dataframe\">\n",
       "  <thead>\n",
       "    <tr style=\"text-align: right;\">\n",
       "      <th></th>\n",
       "      <th>DistrictId</th>\n",
       "      <th>Rooms</th>\n",
       "      <th>Square</th>\n",
       "      <th>LifeSquare</th>\n",
       "      <th>KitchenSquare</th>\n",
       "      <th>Floor</th>\n",
       "      <th>HouseFloor</th>\n",
       "      <th>HouseYear</th>\n",
       "      <th>Ecology_1</th>\n",
       "      <th>Ecology_2</th>\n",
       "      <th>Ecology_3</th>\n",
       "      <th>Social_1</th>\n",
       "      <th>Social_2</th>\n",
       "      <th>Social_3</th>\n",
       "      <th>Healthcare_1</th>\n",
       "      <th>Helthcare_2</th>\n",
       "      <th>Shops_1</th>\n",
       "      <th>Shops_2</th>\n",
       "      <th>Price</th>\n",
       "    </tr>\n",
       "    <tr>\n",
       "      <th>Id</th>\n",
       "      <th></th>\n",
       "      <th></th>\n",
       "      <th></th>\n",
       "      <th></th>\n",
       "      <th></th>\n",
       "      <th></th>\n",
       "      <th></th>\n",
       "      <th></th>\n",
       "      <th></th>\n",
       "      <th></th>\n",
       "      <th></th>\n",
       "      <th></th>\n",
       "      <th></th>\n",
       "      <th></th>\n",
       "      <th></th>\n",
       "      <th></th>\n",
       "      <th></th>\n",
       "      <th></th>\n",
       "      <th></th>\n",
       "    </tr>\n",
       "  </thead>\n",
       "  <tbody>\n",
       "    <tr>\n",
       "      <th>14038</th>\n",
       "      <td>35</td>\n",
       "      <td>2.0</td>\n",
       "      <td>47.981561</td>\n",
       "      <td>29.442751</td>\n",
       "      <td>6.0</td>\n",
       "      <td>7</td>\n",
       "      <td>9.0</td>\n",
       "      <td>1969</td>\n",
       "      <td>0.089040</td>\n",
       "      <td>B</td>\n",
       "      <td>B</td>\n",
       "      <td>33</td>\n",
       "      <td>7976</td>\n",
       "      <td>5</td>\n",
       "      <td>NaN</td>\n",
       "      <td>0</td>\n",
       "      <td>11</td>\n",
       "      <td>B</td>\n",
       "      <td>184966.930730</td>\n",
       "    </tr>\n",
       "    <tr>\n",
       "      <th>15053</th>\n",
       "      <td>41</td>\n",
       "      <td>3.0</td>\n",
       "      <td>65.683640</td>\n",
       "      <td>40.049543</td>\n",
       "      <td>8.0</td>\n",
       "      <td>7</td>\n",
       "      <td>9.0</td>\n",
       "      <td>1978</td>\n",
       "      <td>0.000070</td>\n",
       "      <td>B</td>\n",
       "      <td>B</td>\n",
       "      <td>46</td>\n",
       "      <td>10309</td>\n",
       "      <td>1</td>\n",
       "      <td>240.0</td>\n",
       "      <td>1</td>\n",
       "      <td>16</td>\n",
       "      <td>B</td>\n",
       "      <td>300009.450063</td>\n",
       "    </tr>\n",
       "    <tr>\n",
       "      <th>4765</th>\n",
       "      <td>53</td>\n",
       "      <td>2.0</td>\n",
       "      <td>44.947953</td>\n",
       "      <td>29.197612</td>\n",
       "      <td>0.0</td>\n",
       "      <td>8</td>\n",
       "      <td>12.0</td>\n",
       "      <td>1968</td>\n",
       "      <td>0.049637</td>\n",
       "      <td>B</td>\n",
       "      <td>B</td>\n",
       "      <td>34</td>\n",
       "      <td>7759</td>\n",
       "      <td>0</td>\n",
       "      <td>229.0</td>\n",
       "      <td>1</td>\n",
       "      <td>3</td>\n",
       "      <td>B</td>\n",
       "      <td>220925.908524</td>\n",
       "    </tr>\n",
       "    <tr>\n",
       "      <th>5809</th>\n",
       "      <td>58</td>\n",
       "      <td>2.0</td>\n",
       "      <td>53.352981</td>\n",
       "      <td>52.731512</td>\n",
       "      <td>9.0</td>\n",
       "      <td>8</td>\n",
       "      <td>17.0</td>\n",
       "      <td>1977</td>\n",
       "      <td>0.437885</td>\n",
       "      <td>B</td>\n",
       "      <td>B</td>\n",
       "      <td>23</td>\n",
       "      <td>5735</td>\n",
       "      <td>3</td>\n",
       "      <td>1084.0</td>\n",
       "      <td>0</td>\n",
       "      <td>5</td>\n",
       "      <td>B</td>\n",
       "      <td>175616.227217</td>\n",
       "    </tr>\n",
       "    <tr>\n",
       "      <th>10783</th>\n",
       "      <td>99</td>\n",
       "      <td>1.0</td>\n",
       "      <td>39.649192</td>\n",
       "      <td>23.776169</td>\n",
       "      <td>7.0</td>\n",
       "      <td>11</td>\n",
       "      <td>12.0</td>\n",
       "      <td>1976</td>\n",
       "      <td>0.012339</td>\n",
       "      <td>B</td>\n",
       "      <td>B</td>\n",
       "      <td>35</td>\n",
       "      <td>5776</td>\n",
       "      <td>1</td>\n",
       "      <td>2078.0</td>\n",
       "      <td>2</td>\n",
       "      <td>4</td>\n",
       "      <td>B</td>\n",
       "      <td>150226.531644</td>\n",
       "    </tr>\n",
       "  </tbody>\n",
       "</table>\n",
       "</div>"
      ],
      "text/plain": [
       "       DistrictId  Rooms     Square  LifeSquare  KitchenSquare  Floor  \\\n",
       "Id                                                                      \n",
       "14038          35    2.0  47.981561   29.442751            6.0      7   \n",
       "15053          41    3.0  65.683640   40.049543            8.0      7   \n",
       "4765           53    2.0  44.947953   29.197612            0.0      8   \n",
       "5809           58    2.0  53.352981   52.731512            9.0      8   \n",
       "10783          99    1.0  39.649192   23.776169            7.0     11   \n",
       "\n",
       "       HouseFloor  HouseYear  Ecology_1 Ecology_2 Ecology_3  Social_1  \\\n",
       "Id                                                                      \n",
       "14038         9.0       1969   0.089040         B         B        33   \n",
       "15053         9.0       1978   0.000070         B         B        46   \n",
       "4765         12.0       1968   0.049637         B         B        34   \n",
       "5809         17.0       1977   0.437885         B         B        23   \n",
       "10783        12.0       1976   0.012339         B         B        35   \n",
       "\n",
       "       Social_2  Social_3  Healthcare_1  Helthcare_2  Shops_1 Shops_2  \\\n",
       "Id                                                                      \n",
       "14038      7976         5           NaN            0       11       B   \n",
       "15053     10309         1         240.0            1       16       B   \n",
       "4765       7759         0         229.0            1        3       B   \n",
       "5809       5735         3        1084.0            0        5       B   \n",
       "10783      5776         1        2078.0            2        4       B   \n",
       "\n",
       "               Price  \n",
       "Id                    \n",
       "14038  184966.930730  \n",
       "15053  300009.450063  \n",
       "4765   220925.908524  \n",
       "5809   175616.227217  \n",
       "10783  150226.531644  "
      ]
     },
     "execution_count": 212,
     "metadata": {},
     "output_type": "execute_result"
    }
   ],
   "source": [
    "train.head()"
   ]
  },
  {
   "cell_type": "code",
   "execution_count": 213,
   "metadata": {},
   "outputs": [
    {
     "data": {
      "text/html": [
       "<div>\n",
       "<style scoped>\n",
       "    .dataframe tbody tr th:only-of-type {\n",
       "        vertical-align: middle;\n",
       "    }\n",
       "\n",
       "    .dataframe tbody tr th {\n",
       "        vertical-align: top;\n",
       "    }\n",
       "\n",
       "    .dataframe thead th {\n",
       "        text-align: right;\n",
       "    }\n",
       "</style>\n",
       "<table border=\"1\" class=\"dataframe\">\n",
       "  <thead>\n",
       "    <tr style=\"text-align: right;\">\n",
       "      <th></th>\n",
       "      <th>DistrictId</th>\n",
       "      <th>Rooms</th>\n",
       "      <th>Square</th>\n",
       "      <th>LifeSquare</th>\n",
       "      <th>KitchenSquare</th>\n",
       "      <th>Floor</th>\n",
       "      <th>HouseFloor</th>\n",
       "      <th>HouseYear</th>\n",
       "      <th>Ecology_1</th>\n",
       "      <th>Ecology_2</th>\n",
       "      <th>Ecology_3</th>\n",
       "      <th>Social_1</th>\n",
       "      <th>Social_2</th>\n",
       "      <th>Social_3</th>\n",
       "      <th>Healthcare_1</th>\n",
       "      <th>Helthcare_2</th>\n",
       "      <th>Shops_1</th>\n",
       "      <th>Shops_2</th>\n",
       "    </tr>\n",
       "    <tr>\n",
       "      <th>Id</th>\n",
       "      <th></th>\n",
       "      <th></th>\n",
       "      <th></th>\n",
       "      <th></th>\n",
       "      <th></th>\n",
       "      <th></th>\n",
       "      <th></th>\n",
       "      <th></th>\n",
       "      <th></th>\n",
       "      <th></th>\n",
       "      <th></th>\n",
       "      <th></th>\n",
       "      <th></th>\n",
       "      <th></th>\n",
       "      <th></th>\n",
       "      <th></th>\n",
       "      <th></th>\n",
       "      <th></th>\n",
       "    </tr>\n",
       "  </thead>\n",
       "  <tbody>\n",
       "    <tr>\n",
       "      <th>725</th>\n",
       "      <td>58</td>\n",
       "      <td>2.0</td>\n",
       "      <td>49.882643</td>\n",
       "      <td>33.432782</td>\n",
       "      <td>6.0</td>\n",
       "      <td>6</td>\n",
       "      <td>14.0</td>\n",
       "      <td>1972</td>\n",
       "      <td>0.310199</td>\n",
       "      <td>B</td>\n",
       "      <td>B</td>\n",
       "      <td>11</td>\n",
       "      <td>2748</td>\n",
       "      <td>1</td>\n",
       "      <td>NaN</td>\n",
       "      <td>0</td>\n",
       "      <td>0</td>\n",
       "      <td>B</td>\n",
       "    </tr>\n",
       "    <tr>\n",
       "      <th>15856</th>\n",
       "      <td>74</td>\n",
       "      <td>2.0</td>\n",
       "      <td>69.263183</td>\n",
       "      <td>NaN</td>\n",
       "      <td>1.0</td>\n",
       "      <td>6</td>\n",
       "      <td>1.0</td>\n",
       "      <td>1977</td>\n",
       "      <td>0.075779</td>\n",
       "      <td>B</td>\n",
       "      <td>B</td>\n",
       "      <td>6</td>\n",
       "      <td>1437</td>\n",
       "      <td>3</td>\n",
       "      <td>NaN</td>\n",
       "      <td>0</td>\n",
       "      <td>2</td>\n",
       "      <td>B</td>\n",
       "    </tr>\n",
       "    <tr>\n",
       "      <th>5480</th>\n",
       "      <td>190</td>\n",
       "      <td>1.0</td>\n",
       "      <td>13.597819</td>\n",
       "      <td>15.948246</td>\n",
       "      <td>12.0</td>\n",
       "      <td>2</td>\n",
       "      <td>5.0</td>\n",
       "      <td>1909</td>\n",
       "      <td>0.000000</td>\n",
       "      <td>B</td>\n",
       "      <td>B</td>\n",
       "      <td>30</td>\n",
       "      <td>7538</td>\n",
       "      <td>87</td>\n",
       "      <td>4702.0</td>\n",
       "      <td>5</td>\n",
       "      <td>5</td>\n",
       "      <td>B</td>\n",
       "    </tr>\n",
       "    <tr>\n",
       "      <th>15664</th>\n",
       "      <td>47</td>\n",
       "      <td>2.0</td>\n",
       "      <td>73.046609</td>\n",
       "      <td>51.940842</td>\n",
       "      <td>9.0</td>\n",
       "      <td>22</td>\n",
       "      <td>22.0</td>\n",
       "      <td>2007</td>\n",
       "      <td>0.101872</td>\n",
       "      <td>B</td>\n",
       "      <td>B</td>\n",
       "      <td>23</td>\n",
       "      <td>4583</td>\n",
       "      <td>3</td>\n",
       "      <td>NaN</td>\n",
       "      <td>3</td>\n",
       "      <td>3</td>\n",
       "      <td>B</td>\n",
       "    </tr>\n",
       "    <tr>\n",
       "      <th>14275</th>\n",
       "      <td>27</td>\n",
       "      <td>1.0</td>\n",
       "      <td>47.527111</td>\n",
       "      <td>43.387569</td>\n",
       "      <td>1.0</td>\n",
       "      <td>17</td>\n",
       "      <td>17.0</td>\n",
       "      <td>2017</td>\n",
       "      <td>0.072158</td>\n",
       "      <td>B</td>\n",
       "      <td>B</td>\n",
       "      <td>2</td>\n",
       "      <td>629</td>\n",
       "      <td>1</td>\n",
       "      <td>NaN</td>\n",
       "      <td>0</td>\n",
       "      <td>0</td>\n",
       "      <td>A</td>\n",
       "    </tr>\n",
       "  </tbody>\n",
       "</table>\n",
       "</div>"
      ],
      "text/plain": [
       "       DistrictId  Rooms     Square  LifeSquare  KitchenSquare  Floor  \\\n",
       "Id                                                                      \n",
       "725            58    2.0  49.882643   33.432782            6.0      6   \n",
       "15856          74    2.0  69.263183         NaN            1.0      6   \n",
       "5480          190    1.0  13.597819   15.948246           12.0      2   \n",
       "15664          47    2.0  73.046609   51.940842            9.0     22   \n",
       "14275          27    1.0  47.527111   43.387569            1.0     17   \n",
       "\n",
       "       HouseFloor  HouseYear  Ecology_1 Ecology_2 Ecology_3  Social_1  \\\n",
       "Id                                                                      \n",
       "725          14.0       1972   0.310199         B         B        11   \n",
       "15856         1.0       1977   0.075779         B         B         6   \n",
       "5480          5.0       1909   0.000000         B         B        30   \n",
       "15664        22.0       2007   0.101872         B         B        23   \n",
       "14275        17.0       2017   0.072158         B         B         2   \n",
       "\n",
       "       Social_2  Social_3  Healthcare_1  Helthcare_2  Shops_1 Shops_2  \n",
       "Id                                                                     \n",
       "725        2748         1           NaN            0        0       B  \n",
       "15856      1437         3           NaN            0        2       B  \n",
       "5480       7538        87        4702.0            5        5       B  \n",
       "15664      4583         3           NaN            3        3       B  \n",
       "14275       629         1           NaN            0        0       A  "
      ]
     },
     "execution_count": 213,
     "metadata": {},
     "output_type": "execute_result"
    }
   ],
   "source": [
    "test.head()"
   ]
  },
  {
   "cell_type": "code",
   "execution_count": 214,
   "metadata": {},
   "outputs": [
    {
     "data": {
      "text/plain": [
       "((10000, 19), (5000, 18))"
      ]
     },
     "execution_count": 214,
     "metadata": {},
     "output_type": "execute_result"
    }
   ],
   "source": [
    "train.shape, test.shape"
   ]
  },
  {
   "cell_type": "code",
   "execution_count": 215,
   "metadata": {},
   "outputs": [
    {
     "name": "stdout",
     "output_type": "stream",
     "text": [
      "<class 'pandas.core.frame.DataFrame'>\n",
      "Int64Index: 10000 entries, 14038 to 6306\n",
      "Data columns (total 19 columns):\n",
      " #   Column         Non-Null Count  Dtype  \n",
      "---  ------         --------------  -----  \n",
      " 0   DistrictId     10000 non-null  int64  \n",
      " 1   Rooms          10000 non-null  float64\n",
      " 2   Square         10000 non-null  float64\n",
      " 3   LifeSquare     7887 non-null   float64\n",
      " 4   KitchenSquare  10000 non-null  float64\n",
      " 5   Floor          10000 non-null  int64  \n",
      " 6   HouseFloor     10000 non-null  float64\n",
      " 7   HouseYear      10000 non-null  int64  \n",
      " 8   Ecology_1      10000 non-null  float64\n",
      " 9   Ecology_2      10000 non-null  object \n",
      " 10  Ecology_3      10000 non-null  object \n",
      " 11  Social_1       10000 non-null  int64  \n",
      " 12  Social_2       10000 non-null  int64  \n",
      " 13  Social_3       10000 non-null  int64  \n",
      " 14  Healthcare_1   5202 non-null   float64\n",
      " 15  Helthcare_2    10000 non-null  int64  \n",
      " 16  Shops_1        10000 non-null  int64  \n",
      " 17  Shops_2        10000 non-null  object \n",
      " 18  Price          10000 non-null  float64\n",
      "dtypes: float64(8), int64(8), object(3)\n",
      "memory usage: 1.5+ MB\n"
     ]
    }
   ],
   "source": [
    "train.info()"
   ]
  },
  {
   "cell_type": "code",
   "execution_count": 216,
   "metadata": {},
   "outputs": [
    {
     "data": {
      "text/html": [
       "<div>\n",
       "<style scoped>\n",
       "    .dataframe tbody tr th:only-of-type {\n",
       "        vertical-align: middle;\n",
       "    }\n",
       "\n",
       "    .dataframe tbody tr th {\n",
       "        vertical-align: top;\n",
       "    }\n",
       "\n",
       "    .dataframe thead th {\n",
       "        text-align: right;\n",
       "    }\n",
       "</style>\n",
       "<table border=\"1\" class=\"dataframe\">\n",
       "  <thead>\n",
       "    <tr style=\"text-align: right;\">\n",
       "      <th></th>\n",
       "      <th>count</th>\n",
       "      <th>mean</th>\n",
       "      <th>std</th>\n",
       "      <th>min</th>\n",
       "      <th>25%</th>\n",
       "      <th>50%</th>\n",
       "      <th>75%</th>\n",
       "      <th>max</th>\n",
       "    </tr>\n",
       "  </thead>\n",
       "  <tbody>\n",
       "    <tr>\n",
       "      <th>DistrictId</th>\n",
       "      <td>10000.0</td>\n",
       "      <td>50.400800</td>\n",
       "      <td>43.587592</td>\n",
       "      <td>0.000000</td>\n",
       "      <td>20.000000</td>\n",
       "      <td>36.000000</td>\n",
       "      <td>75.000000</td>\n",
       "      <td>2.090000e+02</td>\n",
       "    </tr>\n",
       "    <tr>\n",
       "      <th>Rooms</th>\n",
       "      <td>10000.0</td>\n",
       "      <td>1.890500</td>\n",
       "      <td>0.839512</td>\n",
       "      <td>0.000000</td>\n",
       "      <td>1.000000</td>\n",
       "      <td>2.000000</td>\n",
       "      <td>2.000000</td>\n",
       "      <td>1.900000e+01</td>\n",
       "    </tr>\n",
       "    <tr>\n",
       "      <th>Square</th>\n",
       "      <td>10000.0</td>\n",
       "      <td>56.315775</td>\n",
       "      <td>21.058732</td>\n",
       "      <td>1.136859</td>\n",
       "      <td>41.774881</td>\n",
       "      <td>52.513310</td>\n",
       "      <td>65.900625</td>\n",
       "      <td>6.410652e+02</td>\n",
       "    </tr>\n",
       "    <tr>\n",
       "      <th>LifeSquare</th>\n",
       "      <td>7887.0</td>\n",
       "      <td>37.199645</td>\n",
       "      <td>86.241209</td>\n",
       "      <td>0.370619</td>\n",
       "      <td>22.769832</td>\n",
       "      <td>32.781260</td>\n",
       "      <td>45.128803</td>\n",
       "      <td>7.480592e+03</td>\n",
       "    </tr>\n",
       "    <tr>\n",
       "      <th>KitchenSquare</th>\n",
       "      <td>10000.0</td>\n",
       "      <td>6.273300</td>\n",
       "      <td>28.560917</td>\n",
       "      <td>0.000000</td>\n",
       "      <td>1.000000</td>\n",
       "      <td>6.000000</td>\n",
       "      <td>9.000000</td>\n",
       "      <td>2.014000e+03</td>\n",
       "    </tr>\n",
       "    <tr>\n",
       "      <th>Floor</th>\n",
       "      <td>10000.0</td>\n",
       "      <td>8.526700</td>\n",
       "      <td>5.241148</td>\n",
       "      <td>1.000000</td>\n",
       "      <td>4.000000</td>\n",
       "      <td>7.000000</td>\n",
       "      <td>12.000000</td>\n",
       "      <td>4.200000e+01</td>\n",
       "    </tr>\n",
       "    <tr>\n",
       "      <th>HouseFloor</th>\n",
       "      <td>10000.0</td>\n",
       "      <td>12.609400</td>\n",
       "      <td>6.775974</td>\n",
       "      <td>0.000000</td>\n",
       "      <td>9.000000</td>\n",
       "      <td>13.000000</td>\n",
       "      <td>17.000000</td>\n",
       "      <td>1.170000e+02</td>\n",
       "    </tr>\n",
       "    <tr>\n",
       "      <th>HouseYear</th>\n",
       "      <td>10000.0</td>\n",
       "      <td>3990.166300</td>\n",
       "      <td>200500.261427</td>\n",
       "      <td>1910.000000</td>\n",
       "      <td>1974.000000</td>\n",
       "      <td>1977.000000</td>\n",
       "      <td>2001.000000</td>\n",
       "      <td>2.005201e+07</td>\n",
       "    </tr>\n",
       "    <tr>\n",
       "      <th>Ecology_1</th>\n",
       "      <td>10000.0</td>\n",
       "      <td>0.118858</td>\n",
       "      <td>0.119025</td>\n",
       "      <td>0.000000</td>\n",
       "      <td>0.017647</td>\n",
       "      <td>0.075424</td>\n",
       "      <td>0.195781</td>\n",
       "      <td>5.218671e-01</td>\n",
       "    </tr>\n",
       "    <tr>\n",
       "      <th>Social_1</th>\n",
       "      <td>10000.0</td>\n",
       "      <td>24.687000</td>\n",
       "      <td>17.532614</td>\n",
       "      <td>0.000000</td>\n",
       "      <td>6.000000</td>\n",
       "      <td>25.000000</td>\n",
       "      <td>36.000000</td>\n",
       "      <td>7.400000e+01</td>\n",
       "    </tr>\n",
       "    <tr>\n",
       "      <th>Social_2</th>\n",
       "      <td>10000.0</td>\n",
       "      <td>5352.157400</td>\n",
       "      <td>4006.799803</td>\n",
       "      <td>168.000000</td>\n",
       "      <td>1564.000000</td>\n",
       "      <td>5285.000000</td>\n",
       "      <td>7227.000000</td>\n",
       "      <td>1.908300e+04</td>\n",
       "    </tr>\n",
       "    <tr>\n",
       "      <th>Social_3</th>\n",
       "      <td>10000.0</td>\n",
       "      <td>8.039200</td>\n",
       "      <td>23.831875</td>\n",
       "      <td>0.000000</td>\n",
       "      <td>0.000000</td>\n",
       "      <td>2.000000</td>\n",
       "      <td>5.000000</td>\n",
       "      <td>1.410000e+02</td>\n",
       "    </tr>\n",
       "    <tr>\n",
       "      <th>Healthcare_1</th>\n",
       "      <td>5202.0</td>\n",
       "      <td>1142.904460</td>\n",
       "      <td>1021.517264</td>\n",
       "      <td>0.000000</td>\n",
       "      <td>350.000000</td>\n",
       "      <td>900.000000</td>\n",
       "      <td>1548.000000</td>\n",
       "      <td>4.849000e+03</td>\n",
       "    </tr>\n",
       "    <tr>\n",
       "      <th>Helthcare_2</th>\n",
       "      <td>10000.0</td>\n",
       "      <td>1.319500</td>\n",
       "      <td>1.493601</td>\n",
       "      <td>0.000000</td>\n",
       "      <td>0.000000</td>\n",
       "      <td>1.000000</td>\n",
       "      <td>2.000000</td>\n",
       "      <td>6.000000e+00</td>\n",
       "    </tr>\n",
       "    <tr>\n",
       "      <th>Shops_1</th>\n",
       "      <td>10000.0</td>\n",
       "      <td>4.231300</td>\n",
       "      <td>4.806341</td>\n",
       "      <td>0.000000</td>\n",
       "      <td>1.000000</td>\n",
       "      <td>3.000000</td>\n",
       "      <td>6.000000</td>\n",
       "      <td>2.300000e+01</td>\n",
       "    </tr>\n",
       "    <tr>\n",
       "      <th>Price</th>\n",
       "      <td>10000.0</td>\n",
       "      <td>214138.857399</td>\n",
       "      <td>92872.293865</td>\n",
       "      <td>59174.778028</td>\n",
       "      <td>153872.633942</td>\n",
       "      <td>192269.644879</td>\n",
       "      <td>249135.462171</td>\n",
       "      <td>6.332335e+05</td>\n",
       "    </tr>\n",
       "  </tbody>\n",
       "</table>\n",
       "</div>"
      ],
      "text/plain": [
       "                 count           mean            std           min  \\\n",
       "DistrictId     10000.0      50.400800      43.587592      0.000000   \n",
       "Rooms          10000.0       1.890500       0.839512      0.000000   \n",
       "Square         10000.0      56.315775      21.058732      1.136859   \n",
       "LifeSquare      7887.0      37.199645      86.241209      0.370619   \n",
       "KitchenSquare  10000.0       6.273300      28.560917      0.000000   \n",
       "Floor          10000.0       8.526700       5.241148      1.000000   \n",
       "HouseFloor     10000.0      12.609400       6.775974      0.000000   \n",
       "HouseYear      10000.0    3990.166300  200500.261427   1910.000000   \n",
       "Ecology_1      10000.0       0.118858       0.119025      0.000000   \n",
       "Social_1       10000.0      24.687000      17.532614      0.000000   \n",
       "Social_2       10000.0    5352.157400    4006.799803    168.000000   \n",
       "Social_3       10000.0       8.039200      23.831875      0.000000   \n",
       "Healthcare_1    5202.0    1142.904460    1021.517264      0.000000   \n",
       "Helthcare_2    10000.0       1.319500       1.493601      0.000000   \n",
       "Shops_1        10000.0       4.231300       4.806341      0.000000   \n",
       "Price          10000.0  214138.857399   92872.293865  59174.778028   \n",
       "\n",
       "                         25%            50%            75%           max  \n",
       "DistrictId         20.000000      36.000000      75.000000  2.090000e+02  \n",
       "Rooms               1.000000       2.000000       2.000000  1.900000e+01  \n",
       "Square             41.774881      52.513310      65.900625  6.410652e+02  \n",
       "LifeSquare         22.769832      32.781260      45.128803  7.480592e+03  \n",
       "KitchenSquare       1.000000       6.000000       9.000000  2.014000e+03  \n",
       "Floor               4.000000       7.000000      12.000000  4.200000e+01  \n",
       "HouseFloor          9.000000      13.000000      17.000000  1.170000e+02  \n",
       "HouseYear        1974.000000    1977.000000    2001.000000  2.005201e+07  \n",
       "Ecology_1           0.017647       0.075424       0.195781  5.218671e-01  \n",
       "Social_1            6.000000      25.000000      36.000000  7.400000e+01  \n",
       "Social_2         1564.000000    5285.000000    7227.000000  1.908300e+04  \n",
       "Social_3            0.000000       2.000000       5.000000  1.410000e+02  \n",
       "Healthcare_1      350.000000     900.000000    1548.000000  4.849000e+03  \n",
       "Helthcare_2         0.000000       1.000000       2.000000  6.000000e+00  \n",
       "Shops_1             1.000000       3.000000       6.000000  2.300000e+01  \n",
       "Price          153872.633942  192269.644879  249135.462171  6.332335e+05  "
      ]
     },
     "execution_count": 216,
     "metadata": {},
     "output_type": "execute_result"
    }
   ],
   "source": [
    "train.describe().T"
   ]
  },
  {
   "cell_type": "markdown",
   "metadata": {},
   "source": [
    "### Обработка категориальных признаков"
   ]
  },
  {
   "cell_type": "code",
   "execution_count": 217,
   "metadata": {},
   "outputs": [],
   "source": [
    "train['DistrictId'] = train['DistrictId'].astype(str)\n",
    "test['DistrictId'] = test['DistrictId'].astype(str)"
   ]
  },
  {
   "cell_type": "code",
   "execution_count": 218,
   "metadata": {},
   "outputs": [],
   "source": [
    "feature_bin_names = ['Ecology_2', 'Ecology_3', 'Shops_2']\n",
    "\n",
    "train[feature_bin_names] = train[feature_bin_names].replace({'A':0, 'B':1})\n",
    "test[feature_bin_names] = test[feature_bin_names].replace({'A':0, 'B':1})"
   ]
  },
  {
   "cell_type": "markdown",
   "metadata": {},
   "source": [
    "### Анализируем Price"
   ]
  },
  {
   "cell_type": "code",
   "execution_count": 219,
   "metadata": {},
   "outputs": [
    {
     "data": {
      "text/plain": [
       "count     10000.000000\n",
       "mean     214138.857399\n",
       "std       92872.293865\n",
       "min       59174.778028\n",
       "25%      153872.633942\n",
       "50%      192269.644879\n",
       "75%      249135.462171\n",
       "max      633233.466570\n",
       "Name: Price, dtype: float64"
      ]
     },
     "execution_count": 219,
     "metadata": {},
     "output_type": "execute_result"
    }
   ],
   "source": [
    "train['Price'].describe()"
   ]
  },
  {
   "cell_type": "code",
   "execution_count": 220,
   "metadata": {},
   "outputs": [
    {
     "name": "stdout",
     "output_type": "stream",
     "text": [
      "\n",
      " mu = 214138.86 and sigma = 92867.65\n",
      "\n"
     ]
    },
    {
     "data": {
      "image/png": "[encoded data removed]",
      "text/plain": [
       "<Figure size 432x288 with 1 Axes>"
      ]
     },
     "metadata": {
      "needs_background": "light"
     },
     "output_type": "display_data"
    },
    {
     "data": {
      "image/png": "[encoded data removed]",
      "text/plain": [
       "<Figure size 432x288 with 1 Axes>"
      ]
     },
     "metadata": {
      "needs_background": "light"
     },
     "output_type": "display_data"
    },
    {
     "name": "stdout",
     "output_type": "stream",
     "text": [
      "Skewness: 1.366878\n",
      "Kurtosis: 2.249410\n"
     ]
    }
   ],
   "source": [
    "sns.distplot(train['Price'] , fit=norm);\n",
    "\n",
    "# Сравниваем распределение цен с нормальным распределением без особой практической ценности для проекта, но с красивыми\n",
    "# графиками.\n",
    "(mu, sigma) = norm.fit(train['Price'])\n",
    "print( '\\n mu = {:.2f} and sigma = {:.2f}\\n'.format(mu, sigma))\n",
    "plt.legend(['N.D ($\\mu=$ {:.2f} and $\\sigma=$ {:.2f} )'.format(mu, sigma)],\n",
    "            loc='best')\n",
    "plt.ylabel('Frequency')\n",
    "plt.title('Price distribution')\n",
    "plt.grid()\n",
    "fig = plt.figure()\n",
    "res = stats.probplot(train['Price'], plot=plt)\n",
    "\n",
    "plt.grid()\n",
    "plt.show()\n",
    "\n",
    "print(\"Skewness: %f\" % train['Price'].skew())\n",
    "print(\"Kurtosis: %f\" % train['Price'].kurt())"
   ]
  },
  {
   "cell_type": "code",
   "execution_count": 221,
   "metadata": {},
   "outputs": [],
   "source": [
    "# Scewness - показывает что распределение значительно положительно скошено вправо, а kurtosis сообщает что распределение \n",
    "# меньше нормального, соответственно меньшим пиком и более тонкими краями."
   ]
  },
  {
   "cell_type": "markdown",
   "metadata": {},
   "source": [
    "### Анализируем признаки и избавляемся от выбросов"
   ]
  },
  {
   "cell_type": "code",
   "execution_count": 222,
   "metadata": {},
   "outputs": [
    {
     "data": {
      "image/png": "[encoded data removed]",
      "text/plain": [
       "<Figure size 432x288 with 2 Axes>"
      ]
     },
     "metadata": {
      "needs_background": "light"
     },
     "output_type": "display_data"
    }
   ],
   "source": [
    "# Матрица корреляции для 7 самых значимых признаков\n",
    "corrmat = train.corr()\n",
    "k = 7\n",
    "cols = corrmat.nlargest(k, 'Price')['Price'].index\n",
    "cm = np.corrcoef(train[cols].values.T)\n",
    "hm = sns.heatmap(cm, cbar=True, annot=True, square=True, fmt='.2f', annot_kws={'size': 10}, \n",
    "                 yticklabels=cols.values, xticklabels=cols.values, cmap= 'coolwarm', linewidths=2, linecolor='black')\n",
    "plt.show()"
   ]
  },
  {
   "cell_type": "code",
   "execution_count": 223,
   "metadata": {},
   "outputs": [
    {
     "data": {
      "text/html": [
       "<div>\n",
       "<style scoped>\n",
       "    .dataframe tbody tr th:only-of-type {\n",
       "        vertical-align: middle;\n",
       "    }\n",
       "\n",
       "    .dataframe tbody tr th {\n",
       "        vertical-align: top;\n",
       "    }\n",
       "\n",
       "    .dataframe thead th {\n",
       "        text-align: right;\n",
       "    }\n",
       "</style>\n",
       "<table border=\"1\" class=\"dataframe\">\n",
       "  <thead>\n",
       "    <tr style=\"text-align: right;\">\n",
       "      <th></th>\n",
       "      <th>Самые коррелирующие признаки</th>\n",
       "    </tr>\n",
       "  </thead>\n",
       "  <tbody>\n",
       "    <tr>\n",
       "      <th>0</th>\n",
       "      <td>Price</td>\n",
       "    </tr>\n",
       "    <tr>\n",
       "      <th>1</th>\n",
       "      <td>Rooms</td>\n",
       "    </tr>\n",
       "    <tr>\n",
       "      <th>2</th>\n",
       "      <td>Square</td>\n",
       "    </tr>\n",
       "    <tr>\n",
       "      <th>3</th>\n",
       "      <td>Social_1</td>\n",
       "    </tr>\n",
       "    <tr>\n",
       "      <th>4</th>\n",
       "      <td>Helthcare_2</td>\n",
       "    </tr>\n",
       "    <tr>\n",
       "      <th>5</th>\n",
       "      <td>Social_2</td>\n",
       "    </tr>\n",
       "    <tr>\n",
       "      <th>6</th>\n",
       "      <td>Shops_1</td>\n",
       "    </tr>\n",
       "  </tbody>\n",
       "</table>\n",
       "</div>"
      ],
      "text/plain": [
       "  Самые коррелирующие признаки\n",
       "0                        Price\n",
       "1                        Rooms\n",
       "2                       Square\n",
       "3                     Social_1\n",
       "4                  Helthcare_2\n",
       "5                     Social_2\n",
       "6                      Shops_1"
      ]
     },
     "execution_count": 223,
     "metadata": {},
     "output_type": "execute_result"
    }
   ],
   "source": [
    "most_corr = pd.DataFrame(cols)\n",
    "most_corr.columns = ['Самые коррелирующие признаки']\n",
    "most_corr"
   ]
  },
  {
   "cell_type": "code",
   "execution_count": 224,
   "metadata": {},
   "outputs": [
    {
     "data": {
      "image/png": "[encoded data removed]",
      "text/plain": [
       "<Figure size 576x432 with 1 Axes>"
      ]
     },
     "metadata": {
      "needs_background": "light"
     },
     "output_type": "display_data"
    }
   ],
   "source": [
    "# Проанализируем признаки в отдельности\n",
    "# Rooms по отношению к Price\n",
    "var = 'Rooms'\n",
    "data = pd.concat([train['Price'], train[var]], axis=1)\n",
    "f, ax = plt.subplots(figsize=(8, 6))\n",
    "fig = sns.boxplot(x=var, y=\"Price\", data=data)\n",
    "fig.axis(ymin=0, ymax=650000);"
   ]
  },
  {
   "cell_type": "code",
   "execution_count": 225,
   "metadata": {},
   "outputs": [
    {
     "data": {
      "text/plain": [
       "2.0     3880\n",
       "1.0     3705\n",
       "3.0     2235\n",
       "4.0      150\n",
       "5.0       18\n",
       "0.0        8\n",
       "10.0       2\n",
       "19.0       1\n",
       "6.0        1\n",
       "Name: Rooms, dtype: int64"
      ]
     },
     "execution_count": 225,
     "metadata": {},
     "output_type": "execute_result"
    }
   ],
   "source": [
    "# Есть явные ошибки в данных, посмотрим на количество таких записей.\n",
    "train['Rooms'].value_counts()"
   ]
  },
  {
   "cell_type": "code",
   "execution_count": 226,
   "metadata": {},
   "outputs": [],
   "source": [
    "# Удаляю где количество выходит за пределы основного диапазона.\n",
    "train = train.drop(train[(train['Rooms']<1) | (train['Rooms']>5)].index)"
   ]
  },
  {
   "cell_type": "code",
   "execution_count": 227,
   "metadata": {},
   "outputs": [
    {
     "data": {
      "text/plain": [
       "<seaborn.axisgrid.JointGrid at 0x1becbe18d88>"
      ]
     },
     "execution_count": 227,
     "metadata": {},
     "output_type": "execute_result"
    },
    {
     "data": {
      "image/png": "[encoded data removed]",
      "text/plain": [
       "<Figure size 432x432 with 3 Axes>"
      ]
     },
     "metadata": {
      "needs_background": "light"
     },
     "output_type": "display_data"
    }
   ],
   "source": [
    "# Square по отношению к Price\n",
    "sns.jointplot(x=train['Square'], y=train['Price'], kind='reg').annotate(stats.pearsonr)"
   ]
  },
  {
   "cell_type": "code",
   "execution_count": 228,
   "metadata": {},
   "outputs": [],
   "source": [
    "# Закономерная зависимость в отношении цена-площадь, плюс некоторое количество выбросов, от которых буду избавляться."
   ]
  },
  {
   "cell_type": "code",
   "execution_count": 229,
   "metadata": {},
   "outputs": [],
   "source": [
    "# Удаляю всё что больше 160 по площади при цене меньше 250000\n",
    "train = train.drop(train[(train['Square']>160) \n",
    "                         & (train['Price']<250000)].index)\n",
    "# Так же всё что меньше 10 по площади при цене выше 90000\n",
    "train = train.drop(train[(train['Square']<10) \n",
    "                         & (train['Price']>90000)].index)\n",
    "# Коэффициент Пирсона вырос"
   ]
  },
  {
   "cell_type": "code",
   "execution_count": 230,
   "metadata": {},
   "outputs": [
    {
     "data": {
      "text/plain": [
       "<seaborn.axisgrid.JointGrid at 0x1becbf02748>"
      ]
     },
     "execution_count": 230,
     "metadata": {},
     "output_type": "execute_result"
    },
    {
     "data": {
      "image/png": "[encoded data removed]",
      "text/plain": [
       "<Figure size 432x432 with 3 Axes>"
      ]
     },
     "metadata": {
      "needs_background": "light"
     },
     "output_type": "display_data"
    }
   ],
   "source": [
    "# Кухни к общей площади. Выбросы в кухнях\n",
    "sns.jointplot(x=train['Square'], y=train['KitchenSquare'], kind='scatter').annotate(stats.pearsonr)"
   ]
  },
  {
   "cell_type": "code",
   "execution_count": 231,
   "metadata": {},
   "outputs": [
    {
     "data": {
      "text/html": [
       "<div>\n",
       "<style scoped>\n",
       "    .dataframe tbody tr th:only-of-type {\n",
       "        vertical-align: middle;\n",
       "    }\n",
       "\n",
       "    .dataframe tbody tr th {\n",
       "        vertical-align: top;\n",
       "    }\n",
       "\n",
       "    .dataframe thead th {\n",
       "        text-align: right;\n",
       "    }\n",
       "</style>\n",
       "<table border=\"1\" class=\"dataframe\">\n",
       "  <thead>\n",
       "    <tr style=\"text-align: right;\">\n",
       "      <th></th>\n",
       "      <th>Square</th>\n",
       "      <th>LifeSquare</th>\n",
       "      <th>KitchenSquare</th>\n",
       "    </tr>\n",
       "  </thead>\n",
       "  <tbody>\n",
       "    <tr>\n",
       "      <th>count</th>\n",
       "      <td>9964.000000</td>\n",
       "      <td>7860.000000</td>\n",
       "      <td>9964.000000</td>\n",
       "    </tr>\n",
       "    <tr>\n",
       "      <th>mean</th>\n",
       "      <td>56.093475</td>\n",
       "      <td>36.984881</td>\n",
       "      <td>6.285227</td>\n",
       "    </tr>\n",
       "    <tr>\n",
       "      <th>std</th>\n",
       "      <td>18.680244</td>\n",
       "      <td>85.916276</td>\n",
       "      <td>28.610667</td>\n",
       "    </tr>\n",
       "    <tr>\n",
       "      <th>min</th>\n",
       "      <td>13.784865</td>\n",
       "      <td>0.370619</td>\n",
       "      <td>0.000000</td>\n",
       "    </tr>\n",
       "    <tr>\n",
       "      <th>25%</th>\n",
       "      <td>41.783182</td>\n",
       "      <td>22.798130</td>\n",
       "      <td>1.000000</td>\n",
       "    </tr>\n",
       "    <tr>\n",
       "      <th>50%</th>\n",
       "      <td>52.502558</td>\n",
       "      <td>32.766417</td>\n",
       "      <td>6.000000</td>\n",
       "    </tr>\n",
       "    <tr>\n",
       "      <th>75%</th>\n",
       "      <td>65.875637</td>\n",
       "      <td>45.098379</td>\n",
       "      <td>9.000000</td>\n",
       "    </tr>\n",
       "    <tr>\n",
       "      <th>max</th>\n",
       "      <td>275.645284</td>\n",
       "      <td>7480.592129</td>\n",
       "      <td>2014.000000</td>\n",
       "    </tr>\n",
       "  </tbody>\n",
       "</table>\n",
       "</div>"
      ],
      "text/plain": [
       "            Square   LifeSquare  KitchenSquare\n",
       "count  9964.000000  7860.000000    9964.000000\n",
       "mean     56.093475    36.984881       6.285227\n",
       "std      18.680244    85.916276      28.610667\n",
       "min      13.784865     0.370619       0.000000\n",
       "25%      41.783182    22.798130       1.000000\n",
       "50%      52.502558    32.766417       6.000000\n",
       "75%      65.875637    45.098379       9.000000\n",
       "max     275.645284  7480.592129    2014.000000"
      ]
     },
     "execution_count": 231,
     "metadata": {},
     "output_type": "execute_result"
    }
   ],
   "source": [
    "train[['Square', 'LifeSquare', 'KitchenSquare']].describe()"
   ]
  },
  {
   "cell_type": "markdown",
   "metadata": {},
   "source": [
    "### Обработка пропусков и ещё выбросов"
   ]
  },
  {
   "cell_type": "code",
   "execution_count": 232,
   "metadata": {},
   "outputs": [],
   "source": [
    "class FeatureImputer:\n",
    "    \"\"\"Заполнение пропусков и обработка выбросов\"\"\"\n",
    "    \n",
    "    def __init__(self):\n",
    "        self.medians=None\n",
    "        \n",
    "    def fit(self, train):\n",
    "        self.medians = train.median()\n",
    "    \n",
    "    def transform(self, train):\n",
    "    \n",
    "        # KitchenSquare\n",
    "        train.loc[(train['KitchenSquare'] < 5) | \\\n",
    "             (train['KitchenSquare'] > 30),\n",
    "             'KitchenSquare'] = train['KitchenSquare'].median()\n",
    "        \n",
    "        # Заполнение пропусков в LifeSquare\n",
    "        train.loc[train['LifeSquare'].isna(), 'LifeSquare'] = train['Square'] - train['KitchenSquare'] - 5\n",
    "        \n",
    "        # Изменение LifeSquare\n",
    "        train.loc[(train['LifeSquare'] > 160) & \\\n",
    "             (train['Square'] < train['LifeSquare']),\n",
    "             'LifeSquare'] = train['Square'] - train['KitchenSquare'] - 5 \n",
    "        # Изменение Square\n",
    "        train.loc[(train['Square'] < train['LifeSquare'] + \\\n",
    "                   train['KitchenSquare']), 'Square'] = train['LifeSquare'] + train['KitchenSquare'] + 5\n",
    "        # Изменение LifeSquare ещё раз\n",
    "        train.loc[(train['LifeSquare'] < 20) & \\\n",
    "              (train['Square'] > train['LifeSquare']), 'LifeSquare'] = train['Square'] - train['KitchenSquare'] - 5\n",
    " \n",
    "        # HouseFloor, Floor\n",
    "        train.loc[train['HouseFloor'] == 0, 'HouseFloor'] = self.medians['HouseFloor']\n",
    "        train.loc[train['Floor'] > train['HouseFloor'], 'Floor'] = train.loc[train['Floor'] > train['HouseFloor'], 'HouseFloor']\n",
    "        \n",
    "        # HouseYear\n",
    "        current_year = now = datetime.datetime.now().year\n",
    "        \n",
    "        train.loc[train['HouseYear'] > current_year, 'HouseYear'] = train['HouseYear'].median()\n",
    "        \n",
    "        # Healthcare_1\n",
    "        if 'Healthcare_1' in train.columns:\n",
    "            train.drop('Healthcare_1', axis=1, inplace=True)\n",
    "            \n",
    "        \n",
    "        \n",
    "        return train"
   ]
  },
  {
   "cell_type": "code",
   "execution_count": 233,
   "metadata": {},
   "outputs": [],
   "source": [
    "imputer = FeatureImputer()\n",
    "\n",
    "imputer.fit(train) # расчет медиан\n",
    "# Преобразование датасетов\n",
    "train = imputer.transform(train)\n",
    "test = imputer.transform(test)"
   ]
  },
  {
   "cell_type": "markdown",
   "metadata": {},
   "source": [
    "### Построение новых признаков"
   ]
  },
  {
   "cell_type": "code",
   "execution_count": 234,
   "metadata": {},
   "outputs": [
    {
     "data": {
      "image/png": "[encoded data removed]",
      "text/plain": [
       "<Figure size 1152x432 with 1 Axes>"
      ]
     },
     "metadata": {
      "needs_background": "light"
     },
     "output_type": "display_data"
    }
   ],
   "source": [
    "# Понятное дело размер района\n",
    "district_size = train['DistrictId'].value_counts().reset_index()\\\n",
    "                .rename(columns={'index':'DistrictId', 'DistrictId':'DistrictSize'})\n",
    "\n",
    "f, ax = plt.subplots(figsize=(16, 6))\n",
    "sns.barplot(y='DistrictSize', x='DistrictId', \n",
    "            data=district_size,\n",
    "            order=district_size.sort_values(by='DistrictSize', ascending=False)['DistrictId']\n",
    "           );\n",
    "ax.tick_params(axis='x', rotation=90)\n",
    "ax.xaxis.set_major_locator(plt.MaxNLocator(50))"
   ]
  },
  {
   "cell_type": "code",
   "execution_count": 235,
   "metadata": {},
   "outputs": [],
   "source": [
    "# 50 использовал, 100 показалось многовато\n",
    "districts_popular = district_size.loc[district_size['DistrictSize'] > 50, 'DistrictId'].tolist()"
   ]
  },
  {
   "cell_type": "code",
   "execution_count": 236,
   "metadata": {},
   "outputs": [],
   "source": [
    "district_size.loc[~district_size['DistrictId'].isin(districts_popular), 'DistrictId'] = 999\n",
    "district_size = district_size.groupby('DistrictId')['DistrictSize'].agg(\n",
    "                            DistrictSize='median')\n",
    "district_size.reset_index(level='DistrictId', inplace=True)"
   ]
  },
  {
   "cell_type": "code",
   "execution_count": 237,
   "metadata": {},
   "outputs": [],
   "source": [
    "train.loc[~train['DistrictId'].isin(districts_popular), 'DistrictId'] = 999\n",
    "test.loc[~test['DistrictId'].isin(districts_popular), 'DistrictId'] = 999"
   ]
  },
  {
   "cell_type": "code",
   "execution_count": 238,
   "metadata": {},
   "outputs": [],
   "source": [
    "train = train.merge(district_size, on='DistrictId', how='left').set_index(train.index)\n",
    "test = test.merge(district_size, on='DistrictId', how='left').set_index(test.index)"
   ]
  },
  {
   "cell_type": "code",
   "execution_count": 239,
   "metadata": {},
   "outputs": [],
   "source": [
    "# Цена квадратного метра\n",
    "train['PriceOneSquaredMeter'] = train['Price'] / train['Square']"
   ]
  },
  {
   "cell_type": "code",
   "execution_count": 240,
   "metadata": {},
   "outputs": [],
   "source": [
    "# Цена квадратного метра в зависимости от района\n",
    "price_by_district = train.groupby(['DistrictId'], as_index=False)\\\n",
    "                        .agg({'PriceOneSquaredMeter':'median'})\\\n",
    "                        .rename(columns={'PriceOneSquaredMeter':'PriceOneSquaredMeterByDistrict'})\n",
    "\n",
    "train = train.merge(price_by_district, on=['DistrictId'], how='left').set_index(train.index)\n",
    "test = test.merge(price_by_district, on=['DistrictId'], how='left').set_index(test.index)"
   ]
  },
  {
   "cell_type": "markdown",
   "metadata": {},
   "source": [
    "### Отбор признаков и построение модели"
   ]
  },
  {
   "cell_type": "code",
   "execution_count": 241,
   "metadata": {},
   "outputs": [],
   "source": [
    "feature_names = [\n",
    "#             'DistrictId',\n",
    "             'Rooms',\n",
    "             'Square',\n",
    "#             'LifeSquare',\n",
    "             'KitchenSquare',\n",
    "             'Floor',\n",
    "             'HouseFloor',\n",
    "             'HouseYear',\n",
    "             'Ecology_1',\n",
    "#             'Ecology_2',\n",
    "#             'Ecology_3',\n",
    "             'Social_1',\n",
    "             'Social_2',\n",
    "             'Social_3',\n",
    "             'Helthcare_2',\n",
    "             'Shops_1',\n",
    "#             'Shops_2',\n",
    "#             'Price',\n",
    "             'DistrictSize',\n",
    "#             PriceOneSquaredMeter,\n",
    "             'PriceOneSquaredMeterByDistrict',\n",
    "]"
   ]
  },
  {
   "cell_type": "code",
   "execution_count": 242,
   "metadata": {},
   "outputs": [],
   "source": [
    "X = train[feature_names]\n",
    "y = train.Price.values\n",
    "\n",
    "X_test = test[feature_names]"
   ]
  },
  {
   "cell_type": "code",
   "execution_count": 243,
   "metadata": {},
   "outputs": [],
   "source": [
    "# Гибридная модель\n",
    "model1 = GradientBoostingRegressor(n_estimators=500, max_depth=5, min_samples_split=2,\n",
    "                                           learning_rate=0.1, loss='ls', random_state=42)\n",
    "\n",
    "model2 = RandomForestRegressor(n_estimators=500, max_depth=18, random_state=42, max_features=7)\n",
    "\n",
    "main_model = VotingRegressor([('model1', model1), ('model2', model2)])"
   ]
  },
  {
   "cell_type": "code",
   "execution_count": 244,
   "metadata": {},
   "outputs": [
    {
     "data": {
      "text/plain": [
       "VotingRegressor(estimators=[('model1',\n",
       "                             GradientBoostingRegressor(alpha=0.9, ccp_alpha=0.0,\n",
       "                                                       criterion='friedman_mse',\n",
       "                                                       init=None,\n",
       "                                                       learning_rate=0.1,\n",
       "                                                       loss='ls', max_depth=5,\n",
       "                                                       max_features=None,\n",
       "                                                       max_leaf_nodes=None,\n",
       "                                                       min_impurity_decrease=0.0,\n",
       "                                                       min_impurity_split=None,\n",
       "                                                       min_samples_leaf=1,\n",
       "                                                       min_samples_split=2,\n",
       "                                                       min_weight_fraction_leaf=0.0,\n",
       "                                                       n_estimators=500,\n",
       "                                                       n_iter_no_chan...\n",
       "                             RandomForestRegressor(bootstrap=True,\n",
       "                                                   ccp_alpha=0.0,\n",
       "                                                   criterion='mse',\n",
       "                                                   max_depth=18, max_features=7,\n",
       "                                                   max_leaf_nodes=None,\n",
       "                                                   max_samples=None,\n",
       "                                                   min_impurity_decrease=0.0,\n",
       "                                                   min_impurity_split=None,\n",
       "                                                   min_samples_leaf=1,\n",
       "                                                   min_samples_split=2,\n",
       "                                                   min_weight_fraction_leaf=0.0,\n",
       "                                                   n_estimators=500,\n",
       "                                                   n_jobs=None, oob_score=False,\n",
       "                                                   random_state=42, verbose=0,\n",
       "                                                   warm_start=False))],\n",
       "                n_jobs=None, weights=None)"
      ]
     },
     "execution_count": 244,
     "metadata": {},
     "output_type": "execute_result"
    }
   ],
   "source": [
    "main_model.fit(X, y)"
   ]
  },
  {
   "cell_type": "code",
   "execution_count": 201,
   "metadata": {},
   "outputs": [
    {
     "name": "stdout",
     "output_type": "stream",
     "text": [
      "R2: 0.75536\n"
     ]
    }
   ],
   "source": [
    "kf = KFold(n_splits=5, shuffle=True, random_state=42)\n",
    "cv_score = cross_val_score(main_model, X, y, scoring='r2', cv=kf)\n",
    "print('R2: {:.5f}'.format(cv_score.mean()))"
   ]
  },
  {
   "cell_type": "markdown",
   "metadata": {},
   "source": [
    "### Прогноз и его выгрузка"
   ]
  },
  {
   "cell_type": "code",
   "execution_count": 245,
   "metadata": {},
   "outputs": [],
   "source": [
    "y_pred = main_model.predict(X_test)\n",
    "\n",
    "preds = pd.DataFrame()\n",
    "preds['Id'] = X_test.index\n",
    "preds['Price'] = y_pred\n",
    "\n",
    "preds.to_csv('ESBondarenko_predictions.csv', index=False)"
   ]
  },
  {
   "cell_type": "code",
   "execution_count": null,
   "metadata": {},
   "outputs": [],
   "source": []
  }
 ],
 "metadata": {
  "kernelspec": {
   "display_name": "Python 3",
   "language": "python",
   "name": "python3"
  },
  "language_info": {
   "codemirror_mode": {
    "name": "ipython",
    "version": 3
   },
   "file_extension": ".py",
   "mimetype": "text/x-python",
   "name": "python",
   "nbconvert_exporter": "python",
   "pygments_lexer": "ipython3",
   "version": "3.7.6"
  }
 },
 "nbformat": 4,
 "nbformat_minor": 2
}
